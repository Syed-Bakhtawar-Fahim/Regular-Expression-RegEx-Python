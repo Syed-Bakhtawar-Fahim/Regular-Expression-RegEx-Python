{
 "cells": [
  {
   "cell_type": "markdown",
   "id": "a25148fc",
   "metadata": {},
   "source": [
    "# Regular Expression\n",
    "1. The language accepted by finite automata can be easily described by simple expressions called Regular Expressions. It is the most effective way to represent any language.\n",
    "2. The languages accepted by some regular expression are referred to as Regular languages.\n",
    "3. A regular expression can also be described as a sequence of pattern that defines a string.\n",
    "4. Regular expressions are used to match character combinations in strings. String searching algorithm used this pattern to find the operations on a string.\n",
    "\n",
    "A RegEx, or Regular Expression, is a sequence of characters that forms a search pattern.\n",
    "\n",
    "RegEx can be used to check if a string contains the specified search pattern."
   ]
  },
  {
   "cell_type": "markdown",
   "id": "d21e96f9",
   "metadata": {},
   "source": [
    "## Python Regrex Library | RE"
   ]
  },
  {
   "cell_type": "markdown",
   "id": "790d0d94",
   "metadata": {},
   "source": [
    "**S**: Representing end of the string </br>\n",
    "**[]**: Defined Conditions inside brackets </br>\n",
    "**+**: Atleast one character"
   ]
  },
  {
   "cell_type": "code",
   "execution_count": 2,
   "id": "0215a724",
   "metadata": {},
   "outputs": [
    {
     "name": "stdout",
     "output_type": "stream",
     "text": [
      "Requirement already satisfied: regex in c:\\users\\adv\\anaconda3\\lib\\site-packages (2022.3.15)\n",
      "Note: you may need to restart the kernel to use updated packages.\n"
     ]
    }
   ],
   "source": [
    "pip install regex"
   ]
  },
  {
   "cell_type": "code",
   "execution_count": 3,
   "id": "41a1423c",
   "metadata": {},
   "outputs": [],
   "source": [
    "import re"
   ]
  },
  {
   "cell_type": "markdown",
   "id": "b7e84c0b",
   "metadata": {},
   "source": [
    "# Meta character\n",
    "**Description**\n",
    "\\\tMarks the next character as either a special character or a literal. For example, n matches the character n, whereas \\n matches a newline character. The sequence \\\\ matches \\ and \\( matches (. </br></br>\n",
    "^\tMatches the beginning of input. </br>\n",
    "$\tMatches the end of input.  </br>\n",
    "*\tMatches the preceding character zero or more times. For example, zo* matches either z or zoo. </br>\n",
    "+\tMatches the preceding character one or more times. For example, zo+ matches zoo but not z. </br>\n",
    "?\tMatches the preceding character zero or one time. For example, a?ve? matches the ve in never. </br>\n",
    ".\tMatches any single character except a newline character. </br>\n",
    "(pattern)\tMatches a pattern and remembers the match. The matched substring can be retrieved from the resulting matches collection by using this code: Item [0]...[n]. To match parentheses characters ( ), use \\( or \\). </br>\n",
    "\n",
    "x|y\tMatches either x or y. For example, z|wood matches z or wood. (z|w)oo matches zoo or wood. </br>\n",
    "{n}\tn is a non-negative integer. Matches exactly n times. For example, o{2} does not match the o in Bob, but matches the first two os in foooood. </br>\n",
    "{n,}\tIn this expression, n is a non-negative integer. Matches the preceding character at least n times. For example, o{2,} does not match the o in Bob and matches all the os in foooood. The o{1,} expression is equivalent to o+ and o{0,} is equivalent to o*. </br>\n",
    "{n,m}\tThe m and n variables are non-negative integers. Matches the preceding character at least n and at most m times. For example, o{1,3} matches the first three os in fooooood. The o{0,1} expression is equivalent to o?. </br>\n",
    "[xyz]\tA character set. Matches any one of the enclosed characters. For example, [abc] matches the a in plain. </br>\n",
    "[^xyz]\tA negative character set. Matches any character that is not enclosed. For example, [^abc] matches the p in plain. </br>\n",
    "[a-z]\tA range of characters. Matches any character in the specified range. For example, [a-z] matches any lowercase alphabetic character in the English alphabet. </br>\n",
    "[^m-z]\tA negative range of characters. Matches any character that is not in the specified range. For example, [m-z] matches any character that is not in the range m through z. </br>\n",
    "\\A\tMatches only at beginning of a string. </br>\n",
    "\\b\tMatches a word boundary, that is, the position between a word and a space. For example, er\\b matches the er in never but not the er in verb. </br>\n",
    "\\B\tMatches a nonword boundary. The ea*r\\B expression matches the ear in never early. </br>\n",
    "\\d\tMatches a digit character. </br>\n",
    "\\D\tMatches a non-digit character. </br>\n",
    "\\f\tMatches a form-feed character. </br>\n",
    "\\n\tMatches a newline character. </br>\n",
    "\\r\tMatches a carriage return character. </br>\n",
    "\\s\tMatches any white space including spaces, tabs, form-feed characters, and so on. </br>\n",
    "\\S\tMatches any non-white space character. </br>\n",
    "\\t\tMatches a tab character. </br>\n",
    "\\v\tMatches a vertical tab character. </br>\n",
    "\\w\tMatches any word character including underscore. This expression is equivalent to [A-Za-z0-9_]. </br>\n",
    "\\W\tMatches any non-word character. This expression is equivalent to [^A-Za-z0-9_]. </br>\n",
    "\\z\tMatches only the end of a string. </br>\n",
    "\\Z\tMatches only the end of a string, or before a newline character at the end. </br>\n",
    "\n",
    "https://www.ibm.com/docs/en/rational-clearquest/9.0.1?topic=tags-meta-characters-in-regular-expressions"
   ]
  },
  {
   "cell_type": "code",
   "execution_count": 63,
   "id": "f645bebe",
   "metadata": {},
   "outputs": [],
   "source": [
    "a = \"charlie and the chocolate factory\"\n",
    "b = \"ayushi.hain@gmail.com\"\n",
    "c = \"hello\"\n",
    "d = \"xxy,yz,xyzz,xyyz,xxzzy,zyz,xxyyyzz,xyzxyz\""
   ]
  },
  {
   "cell_type": "code",
   "execution_count": 64,
   "id": "6222e578",
   "metadata": {},
   "outputs": [],
   "source": [
    "# search --> search the given in string if dont find return null"
   ]
  },
  {
   "cell_type": "code",
   "execution_count": 65,
   "id": "097ec071",
   "metadata": {},
   "outputs": [
    {
     "name": "stdout",
     "output_type": "stream",
     "text": [
      "<re.Match object; span=(0, 1), match='a'>\n"
     ]
    }
   ],
   "source": [
    "match = re.search(r\".\", b)\n",
    "print(match)\n",
    "\n",
    "# Output a: \".\" is treated as special sequence, to aviod we used backword slash"
   ]
  },
  {
   "cell_type": "code",
   "execution_count": 66,
   "id": "1a5b2b6d",
   "metadata": {},
   "outputs": [
    {
     "name": "stdout",
     "output_type": "stream",
     "text": [
      "<re.Match object; span=(6, 7), match='.'>\n"
     ]
    }
   ],
   "source": [
    "match = re.search(r\"\\.\", b)\n",
    "print(match)\n",
    "\n",
    "# span=(6, 7) - show starting and ending index"
   ]
  },
  {
   "cell_type": "code",
   "execution_count": 67,
   "id": "af90d79b",
   "metadata": {},
   "outputs": [],
   "source": [
    "# Square bracket"
   ]
  },
  {
   "cell_type": "code",
   "execution_count": 68,
   "id": "66e41b3e",
   "metadata": {},
   "outputs": [
    {
     "name": "stdout",
     "output_type": "stream",
     "text": [
      "<re.Match object; span=(11, 12), match='@'>\n"
     ]
    }
   ],
   "source": [
    "match = re.search(r\"[@]\", b)\n",
    "print(match)"
   ]
  },
  {
   "cell_type": "code",
   "execution_count": 69,
   "id": "1334f4af",
   "metadata": {},
   "outputs": [
    {
     "name": "stdout",
     "output_type": "stream",
     "text": [
      "<re.Match object; span=(2, 3), match='l'>\n"
     ]
    }
   ],
   "source": [
    "match = re.search(r\"l\",c )\n",
    "print(match)\n",
    "\n",
    "# There are two \"l\" in c but it give only one for finding all we used findall()"
   ]
  },
  {
   "cell_type": "code",
   "execution_count": 70,
   "id": "4202467a",
   "metadata": {},
   "outputs": [],
   "source": [
    "# findall() - return list of matching element"
   ]
  },
  {
   "cell_type": "code",
   "execution_count": 71,
   "id": "3869e596",
   "metadata": {},
   "outputs": [
    {
     "name": "stdout",
     "output_type": "stream",
     "text": [
      "['l', 'l']\n"
     ]
    }
   ],
   "source": [
    "match = re.findall(r\"l\", c)\n",
    "print(match)"
   ]
  },
  {
   "cell_type": "code",
   "execution_count": 72,
   "id": "9b27baf9",
   "metadata": {},
   "outputs": [
    {
     "name": "stdout",
     "output_type": "stream",
     "text": [
      "['a', 'a', 'a']\n"
     ]
    }
   ],
   "source": [
    "match = re.findall(r\"a\", b)\n",
    "print(match)"
   ]
  },
  {
   "cell_type": "code",
   "execution_count": 73,
   "id": "6134c13c",
   "metadata": {},
   "outputs": [
    {
     "name": "stdout",
     "output_type": "stream",
     "text": [
      "<re.Match object; span=(0, 1), match='a'>\n"
     ]
    }
   ],
   "source": [
    "match = re.search(r\"^a\",b )\n",
    "print(match)\n",
    "\n"
   ]
  },
  {
   "cell_type": "code",
   "execution_count": 74,
   "id": "9f639460",
   "metadata": {},
   "outputs": [
    {
     "name": "stdout",
     "output_type": "stream",
     "text": [
      "None\n"
     ]
    }
   ],
   "source": [
    "match = re.search(r\"^c\",b )\n",
    "print(match)\n"
   ]
  },
  {
   "cell_type": "code",
   "execution_count": 75,
   "id": "d974b529",
   "metadata": {},
   "outputs": [
    {
     "name": "stdout",
     "output_type": "stream",
     "text": [
      "<re.Match object; span=(18, 21), match='com'>\n"
     ]
    }
   ],
   "source": [
    "match = re.search(r\"com$\",b )\n",
    "print(match)"
   ]
  },
  {
   "cell_type": "code",
   "execution_count": 82,
   "id": "1421ff02",
   "metadata": {},
   "outputs": [],
   "source": [
    "a = \"charlie chaplin coa and the chocolate factory\"\n",
    "b = \"ayushi.hain@gmail.com\"\n",
    "c = \"hello\"\n",
    "d = \"xxy,yz,xyzz,xyyz,xxzzy,zyz,xxyyyzz,xyzxyz\""
   ]
  },
  {
   "cell_type": "code",
   "execution_count": 83,
   "id": "e2be9b34",
   "metadata": {},
   "outputs": [
    {
     "name": "stdout",
     "output_type": "stream",
     "text": [
      "['cha', 'cha', 'fac']\n"
     ]
    }
   ],
   "source": [
    "match = re.findall(r\"cha|fac\", a)\n",
    "print(match)"
   ]
  },
  {
   "cell_type": "code",
   "execution_count": 84,
   "id": "05a16751",
   "metadata": {},
   "outputs": [
    {
     "name": "stdout",
     "output_type": "stream",
     "text": [
      "['cha', 'cha']\n"
     ]
    }
   ],
   "source": [
    "match = re.findall(r\"ch?a\", a)\n",
    "print(match)"
   ]
  },
  {
   "cell_type": "code",
   "execution_count": 85,
   "id": "c8427671",
   "metadata": {},
   "outputs": [
    {
     "name": "stdout",
     "output_type": "stream",
     "text": [
      "['cha', 'cha', 'cha']\n"
     ]
    }
   ],
   "source": [
    "e = \"charlie chachchaplin coa and the chocolate factory\"\n",
    "match = re.findall(r\"ch*a\", e)\n",
    "print(match)"
   ]
  },
  {
   "cell_type": "code",
   "execution_count": 87,
   "id": "3ee3b630",
   "metadata": {},
   "outputs": [
    {
     "name": "stdout",
     "output_type": "stream",
     "text": [
      "['xyz', 'xyyz', 'xyyyz', 'xyz', 'xyz']\n"
     ]
    }
   ],
   "source": [
    "match = re.findall(r\"xy+z\", d)\n",
    "print(match)"
   ]
  },
  {
   "cell_type": "code",
   "execution_count": 91,
   "id": "2772a883",
   "metadata": {},
   "outputs": [
    {
     "name": "stdout",
     "output_type": "stream",
     "text": [
      "['xx', 'xx', 'xx']\n"
     ]
    }
   ],
   "source": [
    "match = re.findall(r\"x{2,4}\", d)\n",
    "print(match)"
   ]
  },
  {
   "cell_type": "code",
   "execution_count": 92,
   "id": "a8430b46",
   "metadata": {},
   "outputs": [
    {
     "name": "stdout",
     "output_type": "stream",
     "text": [
      "['yy', 'yyy']\n"
     ]
    }
   ],
   "source": [
    "match = re.findall(r\"y{2,4}\", d)\n",
    "print(match)"
   ]
  },
  {
   "cell_type": "code",
   "execution_count": 94,
   "id": "3f69a09e",
   "metadata": {},
   "outputs": [
    {
     "name": "stdout",
     "output_type": "stream",
     "text": [
      "['x', 'y', 'y', 'x', 'x']\n"
     ]
    }
   ],
   "source": [
    "match = re.findall(r\"(x|y)yz\", d)\n",
    "print(match)"
   ]
  },
  {
   "cell_type": "markdown",
   "id": "1ecd7c85",
   "metadata": {},
   "source": [
    "# Special Sequence in RegEx"
   ]
  },
  {
   "cell_type": "markdown",
   "id": "37436258",
   "metadata": {},
   "source": [
    "**Special Sequence do not match for the actual character in the string instead it tells the specific location in the search string where the match must occurs** </br>\n",
    "It makes it easier to write commonly used patterns"
   ]
  },
  {
   "cell_type": "markdown",
   "id": "e084624e",
   "metadata": {},
   "source": [
    "`\\A`: Matches only at beginning of a string. </br>\n",
    "`\\b`: Matches a word boundary, that is, the position between a word and a space. For example, er\\b matches the er in never but not the er in verb. </br>\n",
    "`\\B`: Matches a nonword boundary. The ea*r\\B expression matches the ear in never early. </br>\n",
    "`\\d`: Matches a digit character. </br>\n",
    "`\\D`: Matches a non-digit character. </br>\n",
    "`\\f`: Matches a form-feed character. </br>\n",
    "`\\n`: Matches a newline character. </br>\n",
    "`\\r`: Matches a carriage return character. </br>\n",
    "`\\s`: Matches any white space including spaces, tabs, form-feed characters, and so on. </br>\n",
    "`\\S`: Matches any non-white space character. </br>\n",
    "`\\t`: Matches a tab character. </br>\n",
    "`\\v`: Matches a vertical tab character. </br>\n",
    "`\\w`: Matches any word character including underscore. This expression is equivalent to [A-Za-z0-9_]. </br>\n",
    "`\\W`: Matches any non-word character. This expression is equivalent to [^A-Za-z0-9_]. </br>\n",
    "`\\z`: Matches only the end of a string. </br>\n",
    "`\\Z`: Matches only the end of a string, or before a newline character at the end. </br>"
   ]
  },
  {
   "cell_type": "code",
   "execution_count": 95,
   "id": "93a5e62d",
   "metadata": {},
   "outputs": [],
   "source": [
    "a = \"harry potter\""
   ]
  },
  {
   "cell_type": "code",
   "execution_count": 97,
   "id": "017e5bfd",
   "metadata": {},
   "outputs": [
    {
     "name": "stdout",
     "output_type": "stream",
     "text": [
      "<re.Match object; span=(0, 3), match='har'>\n"
     ]
    }
   ],
   "source": [
    "match = re.search(r\"\\Ahar\", a)\n",
    "print(match)"
   ]
  },
  {
   "cell_type": "code",
   "execution_count": 98,
   "id": "420aef4d",
   "metadata": {},
   "outputs": [
    {
     "name": "stdout",
     "output_type": "stream",
     "text": [
      "<re.Match object; span=(0, 1), match='h'>\n"
     ]
    }
   ],
   "source": [
    "match = re.search(r\"\\bh\", a)\n",
    "print(match)"
   ]
  },
  {
   "cell_type": "code",
   "execution_count": 100,
   "id": "7583579f",
   "metadata": {},
   "outputs": [
    {
     "name": "stdout",
     "output_type": "stream",
     "text": [
      "<re.Match object; span=(0, 2), match='ha'>\n"
     ]
    }
   ],
   "source": [
    "match = re.search(r\"ha\\B\", a)\n",
    "print(match)"
   ]
  },
  {
   "cell_type": "code",
   "execution_count": 102,
   "id": "47abaf45",
   "metadata": {},
   "outputs": [
    {
     "name": "stdout",
     "output_type": "stream",
     "text": [
      "<re.Match object; span=(5, 6), match='1'>\n"
     ]
    }
   ],
   "source": [
    "f = \"harry1 potter2\"\n",
    "match = re.search(r\"\\d\", f)\n",
    "print(match)"
   ]
  },
  {
   "cell_type": "code",
   "execution_count": 103,
   "id": "c4346c52",
   "metadata": {},
   "outputs": [
    {
     "name": "stdout",
     "output_type": "stream",
     "text": [
      "['1', '2']\n"
     ]
    }
   ],
   "source": [
    "f = \"harry1 potter2\"\n",
    "match = re.findall(r\"\\d\", f)\n",
    "print(match)"
   ]
  },
  {
   "cell_type": "code",
   "execution_count": 104,
   "id": "f8641601",
   "metadata": {},
   "outputs": [
    {
     "name": "stdout",
     "output_type": "stream",
     "text": [
      "['h', 'a', 'r', 'r', 'y', ' ', 'p', 'o', 't', 't', 'e', 'r']\n"
     ]
    }
   ],
   "source": [
    "f = \"harry1 potter2\"\n",
    "match = re.findall(r\"\\D\", f)\n",
    "print(match)"
   ]
  },
  {
   "cell_type": "code",
   "execution_count": 105,
   "id": "1abcc522",
   "metadata": {},
   "outputs": [
    {
     "name": "stdout",
     "output_type": "stream",
     "text": [
      "['h', 'a', 'r', 'r', 'y', '1', 'p', 'o', 't', 't', 'e', 'r', '2']\n"
     ]
    }
   ],
   "source": [
    "f = \"harry1 potter2\"\n",
    "match = re.findall(r\"\\w\", f)\n",
    "print(match)"
   ]
  },
  {
   "cell_type": "code",
   "execution_count": 106,
   "id": "f9028882",
   "metadata": {},
   "outputs": [
    {
     "name": "stdout",
     "output_type": "stream",
     "text": [
      "[' ']\n"
     ]
    }
   ],
   "source": [
    "f = \"harry1 potter2\"\n",
    "match = re.findall(r\"\\W\", f)\n",
    "print(match)"
   ]
  },
  {
   "cell_type": "code",
   "execution_count": 116,
   "id": "3684c568",
   "metadata": {},
   "outputs": [
    {
     "name": "stdout",
     "output_type": "stream",
     "text": [
      "[' ']\n"
     ]
    }
   ],
   "source": [
    "f = \"harry1 potter2\"\n",
    "match = re.findall(r\"\\s\", f)\n",
    "print(match)"
   ]
  },
  {
   "cell_type": "code",
   "execution_count": 108,
   "id": "c2dd93e8",
   "metadata": {},
   "outputs": [
    {
     "name": "stdout",
     "output_type": "stream",
     "text": [
      "['h', 'a', 'r', 'r', 'y', '1', 'p', 'o', 't', 't', 'e', 'r', '2']\n"
     ]
    }
   ],
   "source": [
    "f = \"harry1 potter2\"\n",
    "match = re.findall(r\"\\S\", f)\n",
    "print(match)"
   ]
  },
  {
   "cell_type": "code",
   "execution_count": 117,
   "id": "cbdbca9f",
   "metadata": {},
   "outputs": [
    {
     "name": "stdout",
     "output_type": "stream",
     "text": [
      "['2']\n"
     ]
    }
   ],
   "source": [
    "f = \"harry1 potter2\"\n",
    "match = re.findall(r\"2\\Z\", f)\n",
    "print(match)"
   ]
  },
  {
   "cell_type": "code",
   "execution_count": 118,
   "id": "828565eb",
   "metadata": {},
   "outputs": [
    {
     "name": "stdout",
     "output_type": "stream",
     "text": [
      "<re.Match object; span=(13, 14), match='2'>\n"
     ]
    }
   ],
   "source": [
    "f = \"harry1 potter2\"\n",
    "match = re.search(r\"2\\Z\", f)\n",
    "print(match)"
   ]
  },
  {
   "cell_type": "markdown",
   "id": "e84347ec",
   "metadata": {},
   "source": [
    "# RegEx Set"
   ]
  },
  {
   "cell_type": "markdown",
   "id": "8ee4fbce",
   "metadata": {},
   "source": [
    "**A set is a set of characters inside a pair of square brackets [ ] with a special meaning**"
   ]
  },
  {
   "cell_type": "markdown",
   "id": "3bba4407",
   "metadata": {},
   "source": [
    "`[atx]`: Returns a match where one of the specified characters (a, t, or x) are present. </br> </br>\n",
    "`[a-h]`: Returns a match for any lower case character, alphabetically between a and h. </br> </br>\n",
    "`[^atx]`: Returns a match for any character EXCEPT a, t, and x. </br> </br>\n",
    "`[0123]`: Returns a match where any of the specified digits (0, 1, 2, or 3) are present. </br> </br>\n",
    "`[0-9]`: Returns a match for any digit between 0 and 9. </br> </br>\n",
    "`[0-7][0-9]`: Returns a match for any two-digit numbers from 00 and 79. </br> </br>\n",
    "`[a-zA-Z]`: Returns a match for any character alphabetically between a and z, lower and uppercase </br> </br>\n",
    "`[+]`: In sets, +, *, ., |, (), $,{} has no special meaning, so [+] means: return a match for any + character in the string "
   ]
  },
  {
   "cell_type": "code",
   "execution_count": 119,
   "id": "7c71c11b",
   "metadata": {},
   "outputs": [],
   "source": [
    "a = \"charlie chaplin coa and the chocolate factory\"\n",
    "b = \"ayushi.hain@gmail.com\"\n",
    "c = \"hello\"\n",
    "d = \"xxy,yz,xyzz,xyyz,xxzzy,zyz,xxyyyzz,xyzxyz\""
   ]
  },
  {
   "cell_type": "code",
   "execution_count": 120,
   "id": "8ee04b37",
   "metadata": {},
   "outputs": [
    {
     "name": "stdout",
     "output_type": "stream",
     "text": [
      "['a', 'a', 'a', 'a', 't', 'a', 't', 'a', 't']\n"
     ]
    }
   ],
   "source": [
    "match = re.findall(r\"[atx]\", a)\n",
    "print(match)"
   ]
  },
  {
   "cell_type": "code",
   "execution_count": 121,
   "id": "79466df5",
   "metadata": {},
   "outputs": [
    {
     "name": "stdout",
     "output_type": "stream",
     "text": [
      "['c', 'h', 'r', 'l', 'i', 'e', ' ', 'c', 'h', 'p', 'l', 'i', 'n', ' ', 'c', 'o', ' ', 'n', 'd', ' ', 'h', 'e', ' ', 'c', 'h', 'o', 'c', 'o', 'l', 'e', ' ', 'f', 'c', 'o', 'r', 'y']\n"
     ]
    }
   ],
   "source": [
    "match = re.findall(r\"[^atx]\", a)\n",
    "print(match)"
   ]
  },
  {
   "cell_type": "code",
   "execution_count": 124,
   "id": "6d0918a1",
   "metadata": {},
   "outputs": [
    {
     "name": "stdout",
     "output_type": "stream",
     "text": [
      "['c', 'h', 'a', 'r', 'l', 'i', 'e', 'c', 'h', 'a', 'p', 'l', 'i', 'n', 'c', 'o', 'a', 'a', 'n', 'd', 't', 'h', 'e', 'c', 'h', 'o', 'c', 'o', 'l', 'a', 't', 'e', 'f', 'a', 'c', 't', 'o', 'r']\n"
     ]
    }
   ],
   "source": [
    "match = re.findall(r\"[a-t]\", a)\n",
    "print(match)"
   ]
  },
  {
   "cell_type": "code",
   "execution_count": 127,
   "id": "6a5d6b1f",
   "metadata": {},
   "outputs": [
    {
     "name": "stdout",
     "output_type": "stream",
     "text": [
      "['1', '2', '3', '3']\n"
     ]
    }
   ],
   "source": [
    "n = \"123@john#$@6773\"\n",
    "match = re.findall(r\"[123]\", n)\n",
    "print(match)"
   ]
  },
  {
   "cell_type": "code",
   "execution_count": 128,
   "id": "524f9829",
   "metadata": {},
   "outputs": [
    {
     "name": "stdout",
     "output_type": "stream",
     "text": [
      "['1', '2', '3', '6', '7', '7', '3']\n"
     ]
    }
   ],
   "source": [
    "n = \"123@john#$@6773\"\n",
    "match = re.findall(r\"[0-9]\", n)\n",
    "print(match)"
   ]
  },
  {
   "cell_type": "code",
   "execution_count": 129,
   "id": "5e94e255",
   "metadata": {},
   "outputs": [
    {
     "name": "stdout",
     "output_type": "stream",
     "text": [
      "['12', '67', '73']\n"
     ]
    }
   ],
   "source": [
    "n = \"123@john#$@6773\"\n",
    "match = re.findall(r\"[0-7][0-9]\", n)\n",
    "print(match)"
   ]
  },
  {
   "cell_type": "code",
   "execution_count": 130,
   "id": "23739092",
   "metadata": {},
   "outputs": [
    {
     "name": "stdout",
     "output_type": "stream",
     "text": [
      "['j', 'o', 'h', 'n', 'H', 'E', 'L', 'L', 'O']\n"
     ]
    }
   ],
   "source": [
    "n = \"123@john#$@HELLO6773\"\n",
    "match = re.findall(r\"[a-zA-Z]\", n)\n",
    "print(match)"
   ]
  },
  {
   "cell_type": "markdown",
   "id": "9b63bfb4",
   "metadata": {},
   "source": [
    "# Functions in RegEx"
   ]
  },
  {
   "cell_type": "markdown",
   "id": "f44dee7b",
   "metadata": {},
   "source": [
    "#### The `findall()` Function:\n",
    "    Return all the overlapping matches of pattern in string, as list of strings. The strings is scanned left-to-right,and matches the returned in the order found.\n",
    "    \n",
    "#### The `complile()` Function: \n",
    "    The Regular Expression are compiled into pattern, which have methods for various operations such as searching input matches or performing string substitutions\n",
    "   \n",
    "#### The `search()` Function:\n",
    "    The search() function searches the string for a match, and returns a Match object if there is a match. If there is more than one match, only the first occurrence of the match will be returned and If no matches are found, the value None is returned\n",
    "\n",
    "#### The `split()` Function:\n",
    "    The `split()` function returns a list where the string has been split at each match\n",
    "    You can control the number of occurrences by specifying the maxsplit parameter\n",
    "\n",
    "#### The `sub()` Function:\n",
    "    The `sub()` function replaces the matches with the text of your choice. You can control the number of replacements by specifying the count parameter:\n",
    "\n",
    "#### The `subn()` Function:\n",
    "    `subn()` is similar to `sub()` in all ways, except in its way of providing output. It return a tuple with the count of the total of replacement and the new string rather than just the string\n",
    "\n",
    "#### The `escape()` Function:\n",
    "    Return the string with all the `non-alphanumerics` backslashed, this is usefull if you want to match an arbitrary literal string that may have regular expression metacharacters in it\n"
   ]
  },
  {
   "cell_type": "markdown",
   "id": "f5fdc6b4",
   "metadata": {},
   "source": [
    "**Implementation of all Functions**"
   ]
  },
  {
   "cell_type": "code",
   "execution_count": 135,
   "id": "db425a4d",
   "metadata": {},
   "outputs": [],
   "source": [
    "a = \"\"\"John has scored 89 marks\n",
    "Lisa has scored 90 marks\n",
    "David has scored 70 marks\"\"\""
   ]
  },
  {
   "cell_type": "markdown",
   "id": "6cc16fd5",
   "metadata": {},
   "source": [
    "**Find all the marks**"
   ]
  },
  {
   "cell_type": "code",
   "execution_count": 139,
   "id": "c8e9a368",
   "metadata": {},
   "outputs": [
    {
     "name": "stdout",
     "output_type": "stream",
     "text": [
      "['89', '90', '70']\n"
     ]
    }
   ],
   "source": [
    "print(re.findall(\"\\d+\", a))\n",
    "# \\d used for finding number\n",
    "# + represented occuring values"
   ]
  },
  {
   "cell_type": "markdown",
   "id": "02c545f9",
   "metadata": {},
   "source": [
    "**Find all the names**"
   ]
  },
  {
   "cell_type": "code",
   "execution_count": 142,
   "id": "c350801f",
   "metadata": {},
   "outputs": [
    {
     "name": "stdout",
     "output_type": "stream",
     "text": [
      "['John', 'Lisa', 'David']\n"
     ]
    }
   ],
   "source": [
    "print(re.findall(\"[A-Z][a-z]*\", a))"
   ]
  },
  {
   "cell_type": "markdown",
   "id": "cf1a68a7",
   "metadata": {},
   "source": [
    "**Compile**"
   ]
  },
  {
   "cell_type": "code",
   "execution_count": 143,
   "id": "47d180e3",
   "metadata": {},
   "outputs": [
    {
     "name": "stdout",
     "output_type": "stream",
     "text": [
      "['o', 'h', 'n', 'h', 'a', 's', 's', 'c', 'o', 'r', 'e', 'd', 'm', 'a', 'r', 'k', 's', 'i', 's', 'a', 'h', 'a', 's', 's', 'c', 'o', 'r', 'e', 'd', 'm', 'a', 'r', 'k', 's', 'a', 'v', 'i', 'd', 'h', 'a', 's', 's', 'c', 'o', 'r', 'e', 'd', 'm', 'a', 'r', 'k', 's']\n"
     ]
    }
   ],
   "source": [
    "p = re.compile(\"[a-z]\")\n",
    "print(re.findall(p, a))"
   ]
  },
  {
   "cell_type": "code",
   "execution_count": 144,
   "id": "4e10edbd",
   "metadata": {},
   "outputs": [
    {
     "name": "stdout",
     "output_type": "stream",
     "text": [
      "['8', '9', '9', '0', '7', '0']\n"
     ]
    }
   ],
   "source": [
    "p = re.compile(\"[0-9]\")\n",
    "print(re.findall(p, a))"
   ]
  },
  {
   "cell_type": "code",
   "execution_count": 145,
   "id": "a2c73456",
   "metadata": {},
   "outputs": [
    {
     "name": "stdout",
     "output_type": "stream",
     "text": [
      "['8', '9', '9', '0', '7', '0']\n"
     ]
    }
   ],
   "source": [
    "p = re.compile(\"\\d\")\n",
    "print(re.findall(p, a))"
   ]
  },
  {
   "cell_type": "code",
   "execution_count": 147,
   "id": "72ce5fad",
   "metadata": {},
   "outputs": [],
   "source": [
    "# Re-occuring values"
   ]
  },
  {
   "cell_type": "code",
   "execution_count": 148,
   "id": "d0f11da9",
   "metadata": {},
   "outputs": [
    {
     "name": "stdout",
     "output_type": "stream",
     "text": [
      "['89', '90', '70']\n"
     ]
    }
   ],
   "source": [
    "p = re.compile(\"\\d+\")\n",
    "print(re.findall(p, a))"
   ]
  },
  {
   "cell_type": "markdown",
   "id": "ef5a0bce",
   "metadata": {},
   "source": [
    "**split**"
   ]
  },
  {
   "cell_type": "code",
   "execution_count": 149,
   "id": "f6ec291b",
   "metadata": {},
   "outputs": [
    {
     "name": "stdout",
     "output_type": "stream",
     "text": [
      "['John has scored ', ' marks\\nLisa has scored ', ' marks\\nDavid has scored ', ' marks']\n"
     ]
    }
   ],
   "source": [
    "print(re.split(\"\\d+\", a))"
   ]
  },
  {
   "cell_type": "code",
   "execution_count": 150,
   "id": "2c46c336",
   "metadata": {},
   "outputs": [
    {
     "name": "stdout",
     "output_type": "stream",
     "text": [
      "['Fantastic ', ' turtles']\n"
     ]
    }
   ],
   "source": [
    "g = \"Fantastic 5 turtles\"\n",
    "print(re.split(\"\\d+\", g))"
   ]
  },
  {
   "cell_type": "markdown",
   "id": "129e8200",
   "metadata": {},
   "source": [
    "**Sub Function**"
   ]
  },
  {
   "cell_type": "code",
   "execution_count": 151,
   "id": "2d1605b1",
   "metadata": {},
   "outputs": [
    {
     "name": "stdout",
     "output_type": "stream",
     "text": [
      "Fantastic5turtles\n"
     ]
    }
   ],
   "source": [
    "print(re.sub(\"\\s+\", \"\", g))"
   ]
  },
  {
   "cell_type": "markdown",
   "id": "bb1ce15b",
   "metadata": {},
   "source": [
    "**subn**\n",
    "1. same as sub but return output in tuple form\n",
    "2. Gives numbers of replacement"
   ]
  },
  {
   "cell_type": "code",
   "execution_count": 152,
   "id": "313b4684",
   "metadata": {},
   "outputs": [
    {
     "name": "stdout",
     "output_type": "stream",
     "text": [
      "('Fantastic5turtles', 2)\n"
     ]
    }
   ],
   "source": [
    "print(re.subn(\"\\s+\", \"\", g))"
   ]
  },
  {
   "cell_type": "code",
   "execution_count": 153,
   "id": "c032062f",
   "metadata": {},
   "outputs": [
    {
     "name": "stdout",
     "output_type": "stream",
     "text": [
      "Johnhasscored89marksLisahasscored90marksDavidhasscored70marks\n"
     ]
    }
   ],
   "source": [
    "print(re.sub(\"\\s+\", \"\", a))"
   ]
  },
  {
   "cell_type": "markdown",
   "id": "aff13225",
   "metadata": {},
   "source": [
    "**escape**"
   ]
  },
  {
   "cell_type": "code",
   "execution_count": 154,
   "id": "a4d15232",
   "metadata": {},
   "outputs": [
    {
     "name": "stdout",
     "output_type": "stream",
     "text": [
      "John\\ has\\ scored\\ 89\\ marks\\\n",
      "Lisa\\ has\\ scored\\ 90\\ marks\\\n",
      "David\\ has\\ scored\\ 70\\ marks\n"
     ]
    }
   ],
   "source": [
    "print(re.escape(a))"
   ]
  },
  {
   "cell_type": "markdown",
   "id": "470f2b57",
   "metadata": {},
   "source": [
    "**search**\n",
    "1. return first match values"
   ]
  },
  {
   "cell_type": "code",
   "execution_count": 155,
   "id": "c251408d",
   "metadata": {},
   "outputs": [
    {
     "name": "stdout",
     "output_type": "stream",
     "text": [
      "<re.Match object; span=(16, 18), match='89'>\n"
     ]
    }
   ],
   "source": [
    "print(re.search(\"\\d+\", a))"
   ]
  },
  {
   "cell_type": "markdown",
   "id": "4c86c7f7",
   "metadata": {},
   "source": [
    "# Match Object In RegEx"
   ]
  },
  {
   "cell_type": "markdown",
   "id": "398d22b9",
   "metadata": {},
   "source": [
    "**A `Match Object` contains all the information about the search and the result and if there is no match found then `None` will be return**\n",
    "</br</br></br>\n",
    "The Match object has properties and methods used to retrieve information about the search, and the result:\n",
    "</br></br>\n",
    "`.span()` returns a tuple containing the start-, and end positions of the match.</br>\n",
    "`.string` returns the string passed into the function</br>\n",
    "`.group()`returns the part of the string where there was a match</br>"
   ]
  },
  {
   "cell_type": "code",
   "execution_count": 159,
   "id": "91068daa",
   "metadata": {},
   "outputs": [],
   "source": [
    "a = \"John has scored 98 marks\""
   ]
  },
  {
   "cell_type": "code",
   "execution_count": 160,
   "id": "4102ffa5",
   "metadata": {},
   "outputs": [
    {
     "name": "stdout",
     "output_type": "stream",
     "text": [
      "<re.Match object; span=(16, 18), match='98'>\n"
     ]
    }
   ],
   "source": [
    "match = re.search(\"\\d+\", a)\n",
    "print(match)"
   ]
  },
  {
   "cell_type": "code",
   "execution_count": 161,
   "id": "d9cf7586",
   "metadata": {},
   "outputs": [
    {
     "name": "stdout",
     "output_type": "stream",
     "text": [
      "re.compile('\\\\d+')\n"
     ]
    }
   ],
   "source": [
    "print(match.re)"
   ]
  },
  {
   "cell_type": "code",
   "execution_count": 162,
   "id": "d5e69ade",
   "metadata": {},
   "outputs": [
    {
     "name": "stdout",
     "output_type": "stream",
     "text": [
      "John has scored 98 marks\n"
     ]
    }
   ],
   "source": [
    "# Check if the given value i string\n",
    "print(match.string)"
   ]
  },
  {
   "cell_type": "code",
   "execution_count": 164,
   "id": "1309c811",
   "metadata": {},
   "outputs": [
    {
     "name": "stdout",
     "output_type": "stream",
     "text": [
      "16\n",
      "18\n"
     ]
    }
   ],
   "source": [
    "# Getting starting index\n",
    "print(match.start())\n",
    "# Getting ending index\n",
    "print(match.end())"
   ]
  },
  {
   "cell_type": "code",
   "execution_count": 165,
   "id": "da847d51",
   "metadata": {},
   "outputs": [
    {
     "name": "stdout",
     "output_type": "stream",
     "text": [
      "(16, 18)\n"
     ]
    }
   ],
   "source": [
    "# Getting starting and ending index\n",
    "print(match.span())"
   ]
  },
  {
   "cell_type": "code",
   "execution_count": 166,
   "id": "a8f83e32",
   "metadata": {},
   "outputs": [
    {
     "name": "stdout",
     "output_type": "stream",
     "text": [
      "98\n"
     ]
    }
   ],
   "source": [
    "# Return the match which were found in search function\n",
    "print(match.group())"
   ]
  },
  {
   "cell_type": "code",
   "execution_count": 168,
   "id": "23e67e4e",
   "metadata": {},
   "outputs": [
    {
     "name": "stdout",
     "output_type": "stream",
     "text": [
      "<re.Match object; span=(6, 10), match='as s'>\n"
     ]
    }
   ],
   "source": [
    "match = re.search(\"\\w{2} s\", a)\n",
    "print(match)"
   ]
  },
  {
   "cell_type": "code",
   "execution_count": 169,
   "id": "2d1914a0",
   "metadata": {},
   "outputs": [
    {
     "name": "stdout",
     "output_type": "stream",
     "text": [
      "as s\n"
     ]
    }
   ],
   "source": [
    "# Return the match which were found in search function\n",
    "print(match.group())"
   ]
  },
  {
   "cell_type": "markdown",
   "id": "dac971de",
   "metadata": {},
   "source": [
    "# Phone Number and Email Verification and Web Scrapping Using RegEx"
   ]
  },
  {
   "cell_type": "markdown",
   "id": "01dd2df2",
   "metadata": {},
   "source": [
    "**Phone Number**"
   ]
  },
  {
   "cell_type": "code",
   "execution_count": 171,
   "id": "f0f94735",
   "metadata": {},
   "outputs": [
    {
     "name": "stdout",
     "output_type": "stream",
     "text": [
      "Verified Number\n"
     ]
    }
   ],
   "source": [
    "phone = \"0316-2538566\"\n",
    "if re.search(\"\\d{4}-\\d{7}\", phone):\n",
    "    print(\"Verified Number\")\n",
    "else:\n",
    "    print(\"Invalid Number\")"
   ]
  },
  {
   "cell_type": "markdown",
   "id": "e5966d70",
   "metadata": {},
   "source": [
    "**Email**"
   ]
  },
  {
   "cell_type": "code",
   "execution_count": 197,
   "id": "46809da0",
   "metadata": {},
   "outputs": [
    {
     "name": "stdout",
     "output_type": "stream",
     "text": [
      "[]\n",
      "0\n"
     ]
    }
   ],
   "source": [
    "# emails = \"\"\"john78@gmail.com\n",
    "# john@.com\n",
    "# david.989@yahoo.com\"\"\"\n",
    "\n",
    "\n",
    "emails = \"john78@gmail.com    john@.com    david.989@yahoo.com\"\n",
    "print(re.findall(\"[\\w._%]{0, 20}@[\\w-].[A-Za-z]{2,3}\", emails))\n",
    "print(len(re.findall(\"[\\w._%]{0, 20}@[\\w-].[A-Za-z]{2,3}\", emails)))"
   ]
  },
  {
   "cell_type": "markdown",
   "id": "5c908e7c",
   "metadata": {},
   "source": [
    "# Web Scrapping\n",
    "\n",
    "import urllib.request </br>\n",
    "from re import findall"
   ]
  },
  {
   "cell_type": "code",
   "execution_count": 199,
   "id": "0b257368",
   "metadata": {},
   "outputs": [],
   "source": [
    "import urllib.request\n",
    "from re import findall"
   ]
  },
  {
   "cell_type": "markdown",
   "id": "d8f43517",
   "metadata": {},
   "source": [
    "**URL For Scrapping**\n",
    "\n",
    "summet.com/dmsi/html/codesamples/addresses.html\n",
    "</br>\n",
    "We Wanted to Extract the `Phone Numbers` from the above `url`"
   ]
  },
  {
   "cell_type": "code",
   "execution_count": 201,
   "id": "0534a040",
   "metadata": {},
   "outputs": [
    {
     "name": "stdout",
     "output_type": "stream",
     "text": [
      "(257) 563-7401\n",
      "(372) 587-2335\n",
      "(786) 713-8616\n",
      "(793) 151-6230\n",
      "(492) 709-6392\n",
      "(654) 393-5734\n",
      "(404) 960-3807\n",
      "(314) 244-6306\n",
      "(947) 278-5929\n",
      "(684) 579-1879\n",
      "(389) 737-2852\n",
      "(660) 663-4518\n",
      "(608) 265-2215\n",
      "(959) 119-8364\n",
      "(468) 353-2641\n",
      "(248) 675-4007\n",
      "(939) 353-1107\n",
      "(570) 873-7090\n",
      "(302) 259-2375\n",
      "(717) 450-4729\n",
      "(453) 391-4650\n",
      "(559) 104-5475\n",
      "(387) 142-9434\n",
      "(516) 745-4496\n",
      "(326) 677-3419\n",
      "(746) 679-2470\n",
      "(455) 430-0989\n",
      "(490) 936-4694\n",
      "(985) 834-8285\n",
      "(662) 661-1446\n",
      "(802) 668-8240\n",
      "(477) 768-9247\n",
      "(791) 239-9057\n",
      "(832) 109-0213\n",
      "(837) 196-3274\n",
      "(268) 442-2428\n",
      "(850) 676-5117\n",
      "(861) 546-5032\n",
      "(176) 805-4108\n",
      "(715) 912-6931\n",
      "(993) 554-0563\n",
      "(357) 616-5411\n",
      "(121) 347-0086\n",
      "(304) 506-6314\n",
      "(425) 288-2332\n",
      "(145) 987-4962\n",
      "(187) 582-9707\n",
      "(750) 558-3965\n",
      "(492) 467-3131\n",
      "(774) 914-2510\n",
      "(888) 106-8550\n",
      "(539) 567-3573\n",
      "(693) 337-2849\n",
      "(545) 604-9386\n",
      "(221) 156-5026\n",
      "(414) 876-0865\n",
      "(932) 726-8645\n",
      "(726) 710-9826\n",
      "(622) 594-1662\n",
      "(948) 600-8503\n",
      "(605) 900-7508\n",
      "(716) 977-5775\n",
      "(368) 239-8275\n",
      "(725) 342-0650\n",
      "(711) 993-5187\n",
      "(882) 399-5084\n",
      "(287) 755-9948\n",
      "(659) 551-3389\n",
      "(275) 730-6868\n",
      "(725) 757-4047\n",
      "(314) 882-1496\n",
      "(639) 360-7590\n",
      "(168) 222-1592\n",
      "(896) 303-1164\n",
      "(203) 982-6130\n",
      "(906) 217-1470\n",
      "(614) 514-1269\n",
      "(763) 409-5446\n",
      "(836) 292-5324\n",
      "(926) 709-3295\n",
      "(963) 356-9268\n",
      "(736) 522-8584\n",
      "(410) 483-0352\n",
      "(252) 204-1434\n",
      "(874) 886-4174\n",
      "(581) 379-7573\n",
      "(983) 632-8597\n",
      "(295) 983-3476\n",
      "(873) 392-8802\n",
      "(360) 669-3923\n",
      "(840) 987-9449\n",
      "(422) 517-6053\n",
      "(126) 940-2753\n",
      "(427) 930-5255\n",
      "(689) 721-5145\n",
      "(676) 334-2174\n",
      "(437) 994-5270\n",
      "(564) 908-6970\n",
      "(577) 333-6244\n",
      "(655) 840-6139\n"
     ]
    }
   ],
   "source": [
    "url = \"https://www.summet.com/dmsi/html/codesamples/addresses.html\"\n",
    "a = urllib.request.urlopen(url)\n",
    "html = a.read()\n",
    "htmlstr = html.decode()\n",
    "phn = findall(\"\\(\\d{3}\\) \\d{3}-\\d{4}\", htmlstr)\n",
    "\n",
    "for i in phn:\n",
    "    print(i)"
   ]
  },
  {
   "cell_type": "markdown",
   "id": "f96a0900",
   "metadata": {},
   "source": [
    "`Syed Bakhtawar Fahim` </br>\n",
    "**bakhtawarfahim10@gmail.com**"
   ]
  },
  {
   "cell_type": "code",
   "execution_count": null,
   "id": "eb9530e7",
   "metadata": {},
   "outputs": [],
   "source": []
  }
 ],
 "metadata": {
  "kernelspec": {
   "display_name": "Python 3 (ipykernel)",
   "language": "python",
   "name": "python3"
  },
  "language_info": {
   "codemirror_mode": {
    "name": "ipython",
    "version": 3
   },
   "file_extension": ".py",
   "mimetype": "text/x-python",
   "name": "python",
   "nbconvert_exporter": "python",
   "pygments_lexer": "ipython3",
   "version": "3.9.12"
  }
 },
 "nbformat": 4,
 "nbformat_minor": 5
}
